{
 "cells": [
  {
   "cell_type": "code",
   "execution_count": 1,
   "metadata": {},
   "outputs": [],
   "source": [
    "import pickle\n",
    "from time import sleep\n",
    "from bs4 import BeautifulSoup\n",
    "from selenium.common.exceptions import NoSuchElementException \n",
    "from selenium.webdriver.common.by import By \n",
    "\n",
    "\n",
    "def scroll_down(driver, time_sleep=1):\n",
    "    last_height = driver.execute_script(\"return document.body.scrollHeight\")\n",
    "\n",
    "    while True:\n",
    "        # Cuộn xuống dưới cùng của trang\n",
    "        driver.execute_script(\"window.scrollTo(0, document.body.scrollHeight);\")\n",
    "        sleep(time_sleep)\n",
    "\n",
    "        # Chờ trang tải thêm nội dung\n",
    "        new_height = driver.execute_script(\"return document.body.scrollHeight\")\n",
    "        \n",
    "        # Nếu chiều cao trang không đổi, tức là đã tải hết nội dung\n",
    "        if new_height == last_height:\n",
    "            break\n",
    "        last_height = new_height  # Cập nhật chiều cao trang mới\n",
    "\n",
    "\n",
    "def save_cookie(driver, cookie_name):\n",
    "    with open(cookie_name, 'wb') as file:\n",
    "        pickle.dump(driver.get_cookies(), file)\n",
    "\n",
    "def load_cookie(driver, cookie_name):\n",
    "    with open(cookie_name, 'rb') as file:\n",
    "        for cookie in pickle.load(file):\n",
    "            driver.add_cookie(cookie)"
   ]
  },
  {
   "cell_type": "code",
   "execution_count": null,
   "metadata": {},
   "outputs": [],
   "source": []
  }
 ],
 "metadata": {
  "kernelspec": {
   "display_name": "Python 3",
   "language": "python",
   "name": "python3"
  },
  "language_info": {
   "codemirror_mode": {
    "name": "ipython",
    "version": 3
   },
   "file_extension": ".py",
   "mimetype": "text/x-python",
   "name": "python",
   "nbconvert_exporter": "python",
   "pygments_lexer": "ipython3",
   "version": "3.10.11"
  }
 },
 "nbformat": 4,
 "nbformat_minor": 2
}
