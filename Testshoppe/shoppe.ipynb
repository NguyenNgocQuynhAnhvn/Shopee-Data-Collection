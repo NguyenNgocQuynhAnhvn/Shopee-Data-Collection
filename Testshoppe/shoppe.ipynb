{
 "cells": [
  {
   "cell_type": "code",
   "execution_count": null,
   "metadata": {},
   "outputs": [],
   "source": [
    "import requests\n",
    "from pprint import pprint\n",
    "url_api = f\"https://gateway.chotot.com/v1/public/recommender/homepage?fingerprint=b7294700-f5eb-46d3-9c65-f95f86c813f3&page=1\"\n",
    "r = requests.get(url_api)\n",
    "pprint(r.text)\n",
    "\n"
   ]
  },
  {
   "cell_type": "code",
   "execution_count": 1,
   "metadata": {},
   "outputs": [],
   "source": [
    "import undetected_chromedriver as uc\n",
    "from selenium.webdriver.common.by import By\n",
    "from selenium import webdriver\n",
    "from selenium.webdriver.support.ui import WebDriverWait\n",
    "from selenium.webdriver.support import expected_conditions as EC\n",
    "from time import sleep\n",
    "from bs4 import BeautifulSoup\n",
    "from tqdm import tqdm\n",
    "import pandas as pd\n",
    "import ssl\n",
    "ssl._create_default_https_context = ssl._create_stdlib_context"
   ]
  },
  {
   "cell_type": "code",
   "execution_count": 1,
   "metadata": {},
   "outputs": [],
   "source": [
    "config = {\n",
    "    'phone_number': '0366333953', # phone number\n",
    "    'password': 'Vi21082004@1', # password\n",
    "    'delay_time': 10,\n",
    "    'base_url': \"https://shopee.vn\",\n",
    "    'brand_url': 'Máy-Tính-Laptop-cat.11035954'\n",
    "}"
   ]
  },
  {
   "cell_type": "code",
   "execution_count": 3,
   "metadata": {},
   "outputs": [],
   "source": [
    "options = webdriver.ChromeOptions() \n",
    "options.headless = False\n",
    "driver = uc.Chrome(options=options)\n",
    "driver.maximize_window()"
   ]
  },
  {
   "cell_type": "code",
   "execution_count": 5,
   "metadata": {},
   "outputs": [],
   "source": [
    "# hàm để cuộn trang\n",
    "def scroll_down(pct=0.55, time_sleep=1):\n",
    "    height = driver.execute_script(\"return document.body.scrollHeight\")\n",
    "\n",
    "    height = int(height*pct)\n",
    "    for i in range(0, height, 300):\n",
    "        driver.execute_script(\"window.scrollTo({}, {});\".format(i, i+300))\n",
    "        sleep(time_sleep)"
   ]
  },
  {
   "cell_type": "code",
   "execution_count": null,
   "metadata": {},
   "outputs": [],
   "source": [
    "driver.get(config[\"base_url\"])\n",
    "# WebDriverWait(driver, config['delay_time']).until(EC.presence_of_element_located((By.XPATH, '//button[@class=\"_66HDIC\"]')))\n",
    "# driver.save_screenshot(\"login.png\")\n",
    "# driver.find_element(By.XPATH, '//button[@class=\"_66HDIC\"]').click()\n",
    "# đợi trong 10s nếu tìm thấy XPATH thì tiếp tục\n",
    "WebDriverWait(driver, config['delay_time']).until(EC.presence_of_element_located((By.XPATH, '//input[@type=\"text\"]')))\n",
    "\n",
    "# nhập tk và mk để login\n",
    "driver.find_element(By.XPATH,'//input[@type=\"text\"]').send_keys(config['phone_number'])\n",
    "sleep(5)\n",
    "driver.find_element(By.XPATH,'//input[@type=\"password\"]').send_keys(config['password'])\n",
    "sleep(5)\n",
    "driver.find_element(By.XPATH,'//button[@class=\"b5aVaf PVSuiZ Gqupku qz7ctP qxS7lQ Q4KP5g\"]').click()\n",
    "\n",
    "# đợi 10s nếu url hiện tại sau dấu ? có chứa \"is_from_login=true\" thì tiếp tục\n",
    "try:\n",
    "    WebDriverWait(driver, config['delay_time']).until(EC.presence_of_all_elements_located((By.XPATH, '//div[@class=\"shopee-avatar__placeholder\"]')))\n",
    "    print(\"Login success\")\n",
    "except:\n",
    "    print(\"Login failed\")\n",
    "sleep(1)\n",
    "driver.save_screenshot(\"login.png\")"
   ]
  },
  {
   "cell_type": "code",
   "execution_count": 9,
   "metadata": {},
   "outputs": [],
   "source": [
    "driver.get(f\"{config['base_url']}/{config['brand_url']}\")"
   ]
  },
  {
   "cell_type": "code",
   "execution_count": null,
   "metadata": {},
   "outputs": [],
   "source": [
    "scroll_down()"
   ]
  },
  {
   "cell_type": "code",
   "execution_count": null,
   "metadata": {},
   "outputs": [],
   "source": [
    "box = driver.find_element(By.XPATH, '//li[@data-sqe=\"item\"]')\n",
    "link_image = box.find_element(By.XPATH, '//div[@class=\"Vd2yUl _8wgpQO\"]//img').get_attribute('src')\n",
    "link_product = box.find_element(By.XPATH, '//a[@data-sqe=\"link\"]').get_attribute('href')\n",
    "print(f'link ảnh: {link_image}\\nlink sản phẩm: {link_product}')"
   ]
  },
  {
   "cell_type": "code",
   "execution_count": null,
   "metadata": {},
   "outputs": [],
   "source": [
    "driver.get(link_product)\n",
    "sleep(1)\n",
    "scroll_down(0.2)\n",
    "soup = BeautifulSoup(driver.page_source)"
   ]
  },
  {
   "cell_type": "code",
   "execution_count": null,
   "metadata": {},
   "outputs": [],
   "source": [
    "def get_data(soup, selector_string):\n",
    "    try:\n",
    "        data = soup.select(selector_string)\n",
    "        return data[0].text\n",
    "    except:\n",
    "        return None\n",
    "\n",
    "def info_shop(soup):\n",
    "    res = {'Đánh giá': None,\n",
    "            'tỉ lệ phản hồi': None,\n",
    "            'tham gia': None,\n",
    "            'Sản phẩm': None,\n",
    "            'thời gian phản hồi': None,\n",
    "            'Người theo dõi': None}\n",
    "    res['shop_name'] = get_data(soup, \".fV3TIn\")\n",
    "    brand = get_data(soup, \".ZUZ1FO\") # shop yêu thích\n",
    "    if not brand:\n",
    "        brand = 'mall' if get_data(soup, \".official-shop-new-badge\")=='' else 'normal' # shop mall\n",
    "    res['shop_brand'] = brand\n",
    "    try:\n",
    "        for i in soup.select('.NGzCXN > .YnZi6x'):\n",
    "            try:\n",
    "                res[i.label.text] = i.span.text\n",
    "            except:\n",
    "                pass\n",
    "    except:\n",
    "                pass\n",
    "    return res\n",
    "\n",
    "def extract_data(soup) -> dict:\n",
    "    '''hàm này để trích xuất dữ liệu'''\n",
    "    res = {}\n",
    "    # lấy tên sản phẩm\n",
    "    res['name_product'] = get_data(soup, \".WBVL_7 > span\") #soup.find(class_=\"WBVL_7\").span.text\n",
    "    # lấy giá\n",
    "    res['price_origin'] = get_data(soup, \".qg2n76\")\n",
    "    res['price'] = get_data(soup, \".G27FPf\")\n",
    "    res['rate'] = get_data(soup, \".dQEiAI\")\n",
    "    res['review_count'] = get_data(soup, \".e2p50f > div[class='F9RHbS']\")\n",
    "    res['sale_count'] = get_data(soup, \".AcmPRb\")\n",
    "    res['like_count'] = get_data(soup, \".w2JMKY > .rhG6k7\")\n",
    "    res['fee_delivery'] = get_data(soup, \".PZGOkt\")\n",
    "    res['is_flash_sale'] = 1 if get_data(soup, \".x7M8PV\") else 0\n",
    "    res['quantity'] = get_data(soup, \".OaFP0p > div > div:nth-child(2)\")\n",
    "    res['descibe'] = get_data(soup, \".e8lZp3\")\n",
    "    res['detail'] = get_data(soup, \".Gf4Ro0\")\n",
    "    shop = info_shop(soup.find(class_=\"page-product__shop\"))\n",
    "    res.update(shop)\n",
    "    return res\n",
    "\n",
    "detail_data = extract_data(soup)\n",
    "detail_data"
   ]
  },
  {
   "cell_type": "code",
   "execution_count": null,
   "metadata": {},
   "outputs": [],
   "source": [
    "result = {\n",
    "    \"link_image\": link_image,\n",
    "    \"link_product\": link_product\n",
    "}\n",
    "\n",
    "result.update(detail_data)\n",
    "result"
   ]
  },
  {
   "cell_type": "code",
   "execution_count": null,
   "metadata": {},
   "outputs": [],
   "source": [
    "# chuyển json sang csv\n",
    "df = pd.DataFrame([result]) #\n",
    "df.to_csv(\"shopee.csv\", mode='a', header=not pd.io.common.file_exists(\"shopee.csv\"), index=False)"
   ]
  },
  {
   "cell_type": "code",
   "execution_count": null,
   "metadata": {},
   "outputs": [],
   "source": [
    "def log(text):\n",
    "    with open(\"log_error.txt\", \"a\", encoding='utf-8') as f:\n",
    "        f.write(text + \"\\n\")\n",
    "\n",
    "def get_data(soup, selector_string):\n",
    "    try:\n",
    "        data = soup.select(selector_string)\n",
    "        return data[0].text\n",
    "    except:\n",
    "        return None\n",
    "\n",
    "def info_shop(soup):\n",
    "    res = {'Đánh giá': None,\n",
    "            'tỉ lệ phản hồi': None,\n",
    "            'tham gia': None,\n",
    "            'Sản phẩm': None,\n",
    "            'thời gian phản hồi': None,\n",
    "            'Người theo dõi': None}\n",
    "    res['shop_name'] = get_data(soup, \".fV3TIn\")\n",
    "    brand = get_data(soup, \".ZUZ1FO\") # shop yêu thích\n",
    "    if not brand:\n",
    "        brand = 'mall' if get_data(soup, \".official-shop-new-badge\")=='' else 'normal' # shop mall\n",
    "    res['shop_brand'] = brand\n",
    "    try:\n",
    "        for i in soup.select('.NGzCXN > .YnZi6x'):\n",
    "            try:\n",
    "                res[i.label.text] = i.span.text\n",
    "            except:\n",
    "                pass\n",
    "    except:\n",
    "                pass\n",
    "    return res\n",
    "\n",
    "def extract_data(soup) -> dict:\n",
    "    '''hàm này để trích xuất dữ liệu'''\n",
    "    res = {}\n",
    "    # lấy tên sản phẩm\n",
    "    res['product_name'] = get_data(soup, \".WBVL_7 > span\") #soup.find(class_=\"WBVL_7\").span.text\n",
    "    # lấy giá\n",
    "    res['price_origin'] = get_data(soup, \".qg2n76\")\n",
    "    res['price'] = get_data(soup, \".G27FPf\")\n",
    "    res['rate'] = get_data(soup, \".dQEiAI\")\n",
    "    res['review_count'] = get_data(soup, \".e2p50f > div[class='F9RHbS']\")\n",
    "    res['sale_count'] = get_data(soup, \".AcmPRb\")\n",
    "    res['like_count'] = get_data(soup, \".w2JMKY > .rhG6k7\")\n",
    "    res['fee_delivery'] = get_data(soup, \".PZGOkt\")\n",
    "    res['is_flash_sale'] = 1 if get_data(soup, \".x7M8PV\") else 0\n",
    "    res['quantity'] = get_data(soup, \".OaFP0p > div > div:nth-child(2)\")\n",
    "    res['descibe'] = get_data(soup, \".e8lZp3\")\n",
    "    res['detail'] = get_data(soup, \".Gf4Ro0\")\n",
    "    shop = info_shop(soup.find(class_=\"page-product__shop\"))\n",
    "    res.update(shop)\n",
    "    return res"
   ]
  },
  {
   "cell_type": "code",
   "execution_count": null,
   "metadata": {},
   "outputs": [],
   "source": [
    "n_page = 10\n",
    "save_file = 'shopee.csv'\n",
    "for page in range(n_page):\n",
    "    log(f'# {page}')\n",
    "    url_page = f\"{config['base_url']}/{config['brand_url']}?page={page}\"\n",
    "    driver.get(url_page)\n",
    "    sleep(8)\n",
    "    scroll_down(0.55)\n",
    "    boxs = driver.find_elements(By.XPATH, '//a[@data-sqe=\"link\"]')\n",
    "    link_images = [box.find_element(By.XPATH, '//div[@class=\"Vd2yUl _8wgpQO\"]//img').get_attribute('src') for box in boxs]\n",
    "    link_products = [box.get_attribute('href') for box in boxs]\n",
    "    loop = tqdm(link_products, desc=f\"Page {page}\", ncols=100, colour='green') # tạo thanh tiến trình cho đẹp thôi nha :>>\n",
    "    for idx, link_product in enumerate(loop):\n",
    "        driver.get(link_product)\n",
    "        sleep(8)\n",
    "        scroll_down(0.8)\n",
    "        soup = BeautifulSoup(driver.page_source)\n",
    "        detail_data = extract_data(soup)\n",
    "        result = {\n",
    "            \"link_image\": link_images[idx],\n",
    "            \"link_product\": link_products[idx],\n",
    "        }\n",
    "        result.update(detail_data)\n",
    "        df = pd.DataFrame([result])\n",
    "        df.to_csv(save_file, mode='a', header=not pd.io.common.file_exists(save_file), index=False)\n",
    "        check = df['product_name'][0]\n",
    "        if check==None:\n",
    "            log(f'{idx}')"
   ]
  },
  {
   "cell_type": "code",
   "execution_count": null,
   "metadata": {},
   "outputs": [],
   "source": [
    "driver.quit()"
   ]
  },
  {
   "cell_type": "code",
   "execution_count": null,
   "metadata": {},
   "outputs": [],
   "source": [
    "df = pd.read_csv(\"shopee.csv\")\n",
    "df.drop_duplicates(subset=['product_name'], inplace=True)\n",
    "# df.reset_index(inplace=True, drop=True)\n",
    "# df.shape"
   ]
  },
  {
   "cell_type": "code",
   "execution_count": null,
   "metadata": {},
   "outputs": [],
   "source": [
    "df.head()"
   ]
  }
 ],
 "metadata": {
  "kernelspec": {
   "display_name": "Python 3",
   "language": "python",
   "name": "python3"
  },
  "language_info": {
   "codemirror_mode": {
    "name": "ipython",
    "version": 3
   },
   "file_extension": ".py",
   "mimetype": "text/x-python",
   "name": "python",
   "nbconvert_exporter": "python",
   "pygments_lexer": "ipython3",
   "version": "3.10.11"
  }
 },
 "nbformat": 4,
 "nbformat_minor": 2
}
