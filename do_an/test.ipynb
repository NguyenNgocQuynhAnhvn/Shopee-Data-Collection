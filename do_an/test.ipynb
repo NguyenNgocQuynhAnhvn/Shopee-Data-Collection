{
 "cells": [
  {
   "cell_type": "code",
   "execution_count": 1,
   "metadata": {},
   "outputs": [],
   "source": [
    "import undetected_chromedriver as uc\n",
    "from selenium.webdriver.common.by import By\n",
    "from selenium.webdriver.common.keys import Keys\n",
    "from selenium.webdriver.chrome.options import Options\n",
    "from selenium import webdriver\n",
    "from selenium.webdriver.support.ui import WebDriverWait\n",
    "from selenium.webdriver.support import expected_conditions as EC\n",
    "from selenium.common.exceptions import NoSuchElementException\n",
    "from time import sleep\n",
    "from bs4 import BeautifulSoup\n",
    "from tqdm import tqdm\n",
    "import pandas as pd\n",
    "\n",
    "import ssl\n",
    "ssl._create_default_https_context = ssl._create_stdlib_context"
   ]
  },
  {
   "cell_type": "code",
   "execution_count": 5,
   "metadata": {},
   "outputs": [],
   "source": [
    "config = {\n",
    "    'phone_number': '0847260104', # phone number\n",
    "    'password': 'Nguyenvu26', # password\n",
    "    'delay_time': 10,\n",
    "    'base_url': \"https://shopee.vn\",\n",
    "    'brand_url': 'Máy-Tính-Laptop-cat.11035954'\n",
    "}"
   ]
  },
  {
   "cell_type": "code",
   "execution_count": 5,
   "metadata": {},
   "outputs": [],
   "source": [
    "import undetected_chromedriver as uc\n",
    "from selenium.webdriver.chrome.options import Options\n",
    "\n",
    "# Tạo đối tượng ChromeOptions\n",
    "chrome_options = Options()\n",
    "\n",
    "# Cấu hình các tùy chọn\n",
    "chrome_options.headless = False  # Hiển thị trình duyệt\n",
    "# chrome_options.add_argument('--start-maximized')\n",
    "chrome_options.add_argument('disable-infobars')\n",
    "chrome_options.add_argument('--disable-extensions')\n",
    "chrome_options.add_argument('--no-sandbox')\n",
    "# chrome_options.add_argument('--disable-dev-shm-usage')\n",
    "\n",
    "# Sử dụng chrome_options thay vì options\n",
    "driver = uc.Chrome(chrome_options=chrome_options)\n",
    "\n",
    "# Mở rộng cửa sổ trình duyệt\n",
    "driver.maximize_window()\n",
    "\n",
    "# Truy cập Shopee\n",
    "driver.get(\"https://shopee.vn\")\n"
   ]
  },
  {
   "cell_type": "code",
   "execution_count": 6,
   "metadata": {},
   "outputs": [],
   "source": [
    "import pickle\n",
    "\n",
    "def saveCookie(driver, cookieName):\n",
    "    with open('.' + '/' + cookieName, 'wb') as filehandler:\n",
    "        pickle.dump(driver.get_cookies(), filehandler)\n",
    "saveCookie(driver, 'cookies.pkl')\n"
   ]
  },
  {
   "cell_type": "code",
   "execution_count": 7,
   "metadata": {},
   "outputs": [],
   "source": [
    "import pickle\n",
    "def loadCookie(driver, cookieName):\n",
    "    with open('.' + '/' + cookieName, 'rb') as cookiesfile:\n",
    "        for cookie in pickle.load(cookiesfile):\n",
    "            # return pickle.load(cookiesfile)\n",
    "            driver.add_cookie(cookie)\n",
    "    "
   ]
  },
  {
   "cell_type": "code",
   "execution_count": null,
   "metadata": {},
   "outputs": [],
   "source": [
    "loadCookie(driver, \"cookies.pkl\")\n",
    "driver.refresh()"
   ]
  }
 ],
 "metadata": {
  "kernelspec": {
   "display_name": "Python 3",
   "language": "python",
   "name": "python3"
  },
  "language_info": {
   "codemirror_mode": {
    "name": "ipython",
    "version": 3
   },
   "file_extension": ".py",
   "mimetype": "text/x-python",
   "name": "python",
   "nbconvert_exporter": "python",
   "pygments_lexer": "ipython3",
   "version": "3.10.11"
  }
 },
 "nbformat": 4,
 "nbformat_minor": 2
}
