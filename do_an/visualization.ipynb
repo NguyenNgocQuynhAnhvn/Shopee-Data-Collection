{
 "cells": [
  {
   "cell_type": "code",
   "execution_count": 1,
   "metadata": {},
   "outputs": [],
   "source": [
    "import undetected_chromedriver as uc\n",
    "from selenium.webdriver.common.by import By\n",
    "from selenium.webdriver.common.keys import Keys\n",
    "from selenium.webdriver.chrome.options import Options\n",
    "from selenium import webdriver\n",
    "from selenium.webdriver.support.ui import WebDriverWait\n",
    "from selenium.webdriver.support import expected_conditions as EC\n",
    "from selenium.common.exceptions import NoSuchElementException\n",
    "from time import sleep\n",
    "from bs4 import BeautifulSoup\n",
    "from tqdm import tqdm\n",
    "import pandas as pd\n",
    "\n",
    "import ssl\n",
    "ssl._create_default_https_context = ssl._create_stdlib_context"
   ]
  },
  {
   "cell_type": "code",
   "execution_count": 4,
   "metadata": {},
   "outputs": [],
   "source": [
    "import undetected_chromedriver as uc\n",
    "from selenium.webdriver.chrome.options import Options\n",
    "\n",
    "# Tạo đối tượng ChromeOptions\n",
    "chrome_options = Options()\n",
    "\n",
    "# Cấu hình các tùy chọn\n",
    "chrome_options.headless = False  # Hiển thị trình duyệt\n",
    "# chrome_options.add_argument('--start-maximized')\n",
    "chrome_options.add_argument('disable-infobars')\n",
    "chrome_options.add_argument('--disable-extensions')\n",
    "chrome_options.add_argument('--no-sandbox')\n",
    "# chrome_options.add_argument('--disable-dev-shm-usage')\n",
    "\n",
    "# Sử dụng chrome_options thay vì options\n",
    "driver = uc.Chrome(chrome_options=chrome_options)\n",
    "\n",
    "# Mở rộng cửa sổ trình duyệt\n",
    "driver.maximize_window()\n",
    "\n",
    "# Truy cập Shopee\n",
    "driver.get(\"https://shopee.vn\")\n"
   ]
  },
  {
   "cell_type": "code",
   "execution_count": null,
   "metadata": {},
   "outputs": [],
   "source": [
    "quynhanhnguyenngoc081@gmail.com\n",
    "Anh123123"
   ]
  },
  {
   "cell_type": "code",
   "execution_count": 5,
   "metadata": {},
   "outputs": [],
   "source": [
    "import pickle\n",
    "\n",
    "def saveCookie(driver, cookieName):\n",
    "    with open('.' + '/' + cookieName, 'wb') as filehandler:\n",
    "        pickle.dump(driver.get_cookies(), filehandler)\n",
    "saveCookie(driver, 'cookies.pkl')\n"
   ]
  },
  {
   "cell_type": "code",
   "execution_count": 193,
   "metadata": {},
   "outputs": [
    {
     "name": "stdout",
     "output_type": "stream",
     "text": [
      "Số dòng có giá trị ở cột 'name_product': 762\n"
     ]
    }
   ],
   "source": [
    "import pandas as pd\n",
    "\n",
    "# Đọc file CSV\n",
    "df = pd.read_csv('cleaned_file.csv')\n",
    "\n",
    "# Đếm số giá trị không bị thiếu trong cột 'name_product'\n",
    "count_non_missing = df['name_product'].notna().sum() - (df['name_product'] == \"\").sum()\n",
    "\n",
    "print(f\"Số dòng có giá trị ở cột 'name_product': {count_non_missing}\")\n",
    "\n"
   ]
  },
  {
   "cell_type": "code",
   "execution_count": 191,
   "metadata": {},
   "outputs": [],
   "source": [
    "\n",
    "#Tiền xử lý dữ liệu\n",
    "import pandas as pd\n",
    "df = pd.read_csv('shopee.csv')\n",
    "df.rename(columns={'Người theo dõi': 'followers'}, inplace=True)\n",
    "df.rename(columns={'Sản phẩm': 'product_count'}, inplace=True)\n",
    "df.rename(columns={'tham gia': 'join_time'}, inplace=True)\n",
    "df.rename(columns={'tỉ lệ phản hồi': 'respond_rate'}, inplace=True)\n",
    "df.rename(columns={'thời gian phản hồi': 'respond_time'}, inplace=True)\n",
    "df.rename(columns={'Đánh giá': 'evaluation'}, inplace=True)\n",
    "\n",
    "df.drop(columns=['price'], inplace=True)\n",
    "# Hàm chuyển đổi\n",
    "def convert_price(value):\n",
    "    value_str = str(value)  # Đảm bảo giá trị là kiểu chuỗi\n",
    "    value_str = value_str.split('-')[-1].strip()\n",
    "    if '₫' in value_str:\n",
    "        number = value_str.replace('₫', '').replace('.', '')\n",
    "        return float(number)\n",
    "\n",
    "def convert_value(value):\n",
    "    value_str = str(value)  # Đảm bảo giá trị là kiểu chuỗi\n",
    "    if 'k' in value_str:\n",
    "        # Xóa 'k' và thay thế ',' bằng '.'\n",
    "        number = float(value_str.replace('k', '').replace(',', '.'))\n",
    "        return number * 1000\n",
    "\n",
    "    elif 'tr' in value_str:\n",
    "        number = float(value_str.replace('tr', '').replace(',', '.'))\n",
    "        return number * 1000000\n",
    "\n",
    "    else:\n",
    "        # Chuyển đổi chuỗi không có 'k'\n",
    "        return float(value_str.replace(',', '.'))\n",
    "#Hàm chuyển đổi quantiy\n",
    "def convert_quantity(value):\n",
    "    if pd.isna(value):  # Kiểm tra nếu giá trị là NaN\n",
    "        return None  # Hoặc bạn có thể trả về một giá trị mặc định khác\n",
    "    value_str = str(value)  # Đảm bảo giá trị là kiểu chuỗi\n",
    "    quantity = value_str.split()[0]  # Tách và lấy phần đầu tiên\n",
    "    return quantity\n",
    "def convert_like_count(value):\n",
    "    value_str = str(value)  # Đảm bảo giá trị là kiểu chuỗi\n",
    "    value_str = value_str.split()[-1]\n",
    "    value_str = value_str.replace('(', '')\n",
    "    value_str = value_str.replace(')', '')\n",
    "    if 'k' in value_str:\n",
    "        # Xóa 'k' và thay thế ',' bằng '.'\n",
    "        number = float(value_str.replace('k', '').replace(',', '.'))\n",
    "        return number * 1000\n",
    "    elif 'tr' in value_str:\n",
    "        number = float(value_str.replace('tr', '').replace(',', '.'))\n",
    "        return number * 1000000\n",
    "\n",
    "    else:\n",
    "        # Chuyển đổi chuỗi không có 'k'\n",
    "        return float(value_str.replace(',', '.'))\n",
    "\n",
    "df['evaluation'] = df['evaluation'].apply(convert_value)\n",
    "df['product_count'] = df['product_count'].apply(convert_value)\n",
    "df['sale_count'] = df['sale_count'].apply(convert_value)\n",
    "df['review_count'] =df['review_count'].apply(convert_value)\n",
    "df['quantity'] = df['quantity'].apply(convert_quantity)\n",
    "df['like_count'] = df['like_count'].apply(convert_like_count)\n",
    "df['followers'] = df['followers'].apply(convert_value)\n",
    "df['price_origin'] = df['price_origin'].apply(convert_price)\n",
    "df['fee_delivery'] = df['fee_delivery'].apply(convert_price)\n",
    "df.to_csv('cleaned_file.csv', index=False)\n"
   ]
  },
  {
   "cell_type": "code",
   "execution_count": 192,
   "metadata": {},
   "outputs": [
    {
     "name": "stdout",
     "output_type": "stream",
     "text": [
      "Dữ liệu đã được lưu vào MongoDB.\n"
     ]
    }
   ],
   "source": [
    "import pandas as pd\n",
    "from pymongo import MongoClient\n",
    "\n",
    "# Kết nối đến MongoDB\n",
    "client = MongoClient(\"mongodb://localhost:27017/\")\n",
    "db_shopee = client[\"shopee\"]  # Thay thế bằng tên database của bạn\n",
    "collection_shopee = db_shopee[\"collection_shopee\"]  # Thay thế bằng tên collection của bạn\n",
    "\n",
    "# Đọc file CSV\n",
    "df = pd.read_csv('cleaned_file.csv')\n",
    "\n",
    "# Chuyển đổi DataFrame thành danh sách các dictionary\n",
    "data = df.to_dict(orient=\"records\")\n",
    "\n",
    "# Chèn dữ liệu vào MongoDB\n",
    "collection_shopee.insert_many(data)\n",
    "\n",
    "print(\"Dữ liệu đã được lưu vào MongoDB.\")\n"
   ]
  }
 ],
 "metadata": {
  "kernelspec": {
   "display_name": "Python 3",
   "language": "python",
   "name": "python3"
  },
  "language_info": {
   "codemirror_mode": {
    "name": "ipython",
    "version": 3
   },
   "file_extension": ".py",
   "mimetype": "text/x-python",
   "name": "python",
   "nbconvert_exporter": "python",
   "pygments_lexer": "ipython3",
   "version": "3.10.11"
  }
 },
 "nbformat": 4,
 "nbformat_minor": 2
}
